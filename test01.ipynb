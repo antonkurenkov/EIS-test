{
 "cells": [
  {
   "cell_type": "markdown",
   "metadata": {},
   "source": [
    "Создать мета-класс, определяющий в переменную класса COLLECTION имя коллекции, с которой работает создаваемый класс. Имя коллекции должно генерироваться автоматически и соответствовать имени класса, написанного с большой буквы."
   ]
  },
  {
   "cell_type": "code",
   "execution_count": 23,
   "metadata": {},
   "outputs": [],
   "source": [
    "class NewMetaClass(type):\n",
    "\n",
    "    def __new__(cls, name, bases, dct):\n",
    "        dct['COLLECTION'] = name.capitalize()\n",
    "        new_class = super(NewMetaClass, cls).__new__(cls, name, bases, dct)\n",
    "        return new_class\n",
    "\n",
    "class newCollection1(metaclass=NewMetaClass):\n",
    "    pass\n",
    "\n",
    "class newCollection2(metaclass=NewMetaClass):\n",
    "    pass"
   ]
  },
  {
   "cell_type": "code",
   "execution_count": 24,
   "metadata": {},
   "outputs": [
    {
     "name": "stdout",
     "output_type": "stream",
     "text": [
      "Newcollection1\n"
     ]
    }
   ],
   "source": [
    "print(newCollection1.COLLECTION)"
   ]
  },
  {
   "cell_type": "code",
   "execution_count": 25,
   "metadata": {},
   "outputs": [
    {
     "name": "stdout",
     "output_type": "stream",
     "text": [
      "Newcollection2\n"
     ]
    }
   ],
   "source": [
    "print(newCollection2.COLLECTION)"
   ]
  },
  {
   "cell_type": "markdown",
   "metadata": {},
   "source": [
    "Как мы видим, имена коллекций при этом остаются в camelcase."
   ]
  },
  {
   "cell_type": "code",
   "execution_count": 26,
   "metadata": {},
   "outputs": [
    {
     "name": "stdout",
     "output_type": "stream",
     "text": [
      "newCollection1\n",
      "newCollection2\n"
     ]
    }
   ],
   "source": [
    "print(newCollection1.__name__)\n",
    "print(newCollection2.__name__)"
   ]
  },
  {
   "cell_type": "markdown",
   "metadata": {},
   "source": [
    "На основе созданного мета-класса создать класс с именем 'Account'. При этом экземпляр такого класса имеет обязательный строковый атрибут 'number' длиной ровно 13 символов."
   ]
  },
  {
   "cell_type": "code",
   "execution_count": 27,
   "metadata": {},
   "outputs": [],
   "source": [
    "class Account(metaclass=NewMetaClass):\n",
    "\n",
    "    def __init__(self, number):\n",
    "        self.number = str(number)\n",
    "        # assert len(number) == 13\n",
    "        if len(number) != 13:\n",
    "            raise ValueError('Incorrect field length!')"
   ]
  },
  {
   "cell_type": "code",
   "execution_count": 28,
   "metadata": {},
   "outputs": [
    {
     "name": "stdout",
     "output_type": "stream",
     "text": [
      "0000000000000\n"
     ]
    }
   ],
   "source": [
    "new_user = Account('0000000000000') # Для поля верной длины\n",
    "print(new_user.number)"
   ]
  },
  {
   "cell_type": "code",
   "execution_count": 29,
   "metadata": {},
   "outputs": [
    {
     "ename": "ValueError",
     "evalue": "Incorrect field length!",
     "output_type": "error",
     "traceback": [
      "\u001b[0;31m---------------------------------------------------------------------------\u001b[0m",
      "\u001b[0;31mValueError\u001b[0m                                Traceback (most recent call last)",
      "\u001b[0;32m<ipython-input-29-ca25475e3f9b>\u001b[0m in \u001b[0;36m<module>\u001b[0;34m\u001b[0m\n\u001b[0;32m----> 1\u001b[0;31m \u001b[0mother_user\u001b[0m \u001b[0;34m=\u001b[0m \u001b[0mAccount\u001b[0m\u001b[0;34m(\u001b[0m\u001b[0;34m'000000000000'\u001b[0m\u001b[0;34m)\u001b[0m \u001b[0;31m# Для поля неверной длины\u001b[0m\u001b[0;34m\u001b[0m\u001b[0;34m\u001b[0m\u001b[0m\n\u001b[0m\u001b[1;32m      2\u001b[0m \u001b[0mprint\u001b[0m\u001b[0;34m(\u001b[0m\u001b[0mother_user\u001b[0m\u001b[0;34m.\u001b[0m\u001b[0mnumber\u001b[0m\u001b[0;34m)\u001b[0m\u001b[0;34m\u001b[0m\u001b[0;34m\u001b[0m\u001b[0m\n",
      "\u001b[0;32m<ipython-input-27-d0b34e265121>\u001b[0m in \u001b[0;36m__init__\u001b[0;34m(self, number)\u001b[0m\n\u001b[1;32m      5\u001b[0m         \u001b[0;31m# assert len(number) == 13\u001b[0m\u001b[0;34m\u001b[0m\u001b[0;34m\u001b[0m\u001b[0;34m\u001b[0m\u001b[0m\n\u001b[1;32m      6\u001b[0m         \u001b[0;32mif\u001b[0m \u001b[0mlen\u001b[0m\u001b[0;34m(\u001b[0m\u001b[0mnumber\u001b[0m\u001b[0;34m)\u001b[0m \u001b[0;34m!=\u001b[0m \u001b[0;36m13\u001b[0m\u001b[0;34m:\u001b[0m\u001b[0;34m\u001b[0m\u001b[0;34m\u001b[0m\u001b[0m\n\u001b[0;32m----> 7\u001b[0;31m             \u001b[0;32mraise\u001b[0m \u001b[0mValueError\u001b[0m\u001b[0;34m(\u001b[0m\u001b[0;34m'Incorrect field length!'\u001b[0m\u001b[0;34m)\u001b[0m\u001b[0;34m\u001b[0m\u001b[0;34m\u001b[0m\u001b[0m\n\u001b[0m",
      "\u001b[0;31mValueError\u001b[0m: Incorrect field length!"
     ]
    }
   ],
   "source": [
    "other_user = Account('000000000000') # Для поля неверной длины\n",
    "print(other_user.number)"
   ]
  },
  {
   "cell_type": "markdown",
   "metadata": {},
   "source": [
    "Проверим новую сущность."
   ]
  },
  {
   "cell_type": "code",
   "execution_count": 30,
   "metadata": {},
   "outputs": [
    {
     "name": "stdout",
     "output_type": "stream",
     "text": [
      "Account\n"
     ]
    }
   ],
   "source": [
    "print(new_user.COLLECTION)"
   ]
  }
 ],
 "metadata": {
  "kernelspec": {
   "display_name": "Python 3",
   "language": "python",
   "name": "python3"
  },
  "language_info": {
   "codemirror_mode": {
    "name": "ipython",
    "version": 3
   },
   "file_extension": ".py",
   "mimetype": "text/x-python",
   "name": "python",
   "nbconvert_exporter": "python",
   "pygments_lexer": "ipython3",
   "version": "3.7.4"
  }
 },
 "nbformat": 4,
 "nbformat_minor": 2
}
