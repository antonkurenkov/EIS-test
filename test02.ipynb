{
 "cells": [
  {
   "cell_type": "markdown",
   "metadata": {},
   "source": [
    "Предположим, что в коллекции 'Account' одноименного класса лежит список документов вида:"
   ]
  },
  {
   "cell_type": "code",
   "execution_count": 55,
   "metadata": {},
   "outputs": [],
   "source": [
    "input_json = {\n",
    "    'number': '7800000000000',\n",
    "    'name': 'Пользователь №',\n",
    "    'sessions': [\n",
    "        {\n",
    "            'created_at': ISODate('2016-01-01T00:00:00'),\n",
    "            'session_id': '6QBnQhFGgDgC2FDfGwbgEaLbPMMBofPFVrVh9Pn2quooAcgxZc',\n",
    "            'actions': [\n",
    "                {\n",
    "                    'type': 'read',\n",
    "                    'created_at': ISODate('2016-01-01T01:20:01'),\n",
    "                },\n",
    "                {\n",
    "                    'type': 'read',\n",
    "                    'created_at': ISODate('2016-01-01T01:21:13'),\n",
    "                },\n",
    "                {\n",
    "                    'type': 'create',\n",
    "                    'created_at': ISODate('2016-01-01T01:33:59'),\n",
    "                }\n",
    "            ],\n",
    "        }\n",
    "    ]\n",
    "}"
   ]
  },
  {
   "cell_type": "markdown",
   "metadata": {},
   "source": [
    "Необходимо написать агрегационный запрос, который по каждому пользователю выведет последнее действие и общее количество для каждого из типов 'actions'. Итоговые данные должны представлять собой список документов вида:"
   ]
  },
  {
   "cell_type": "code",
   "execution_count": 56,
   "metadata": {
    "scrolled": false
   },
   "outputs": [
    {
     "ename": "SyntaxError",
     "evalue": "invalid syntax (<ipython-input-56-917c7482d833>, line 6)",
     "output_type": "error",
     "traceback": [
      "\u001b[0;36m  File \u001b[0;32m\"<ipython-input-56-917c7482d833>\"\u001b[0;36m, line \u001b[0;32m6\u001b[0m\n\u001b[0;31m    'last': 'created_at': ISODate('2016-01-01T01:33:59'),\u001b[0m\n\u001b[0m                        ^\u001b[0m\n\u001b[0;31mSyntaxError\u001b[0m\u001b[0;31m:\u001b[0m invalid syntax\n"
     ]
    }
   ],
   "source": [
    "output_json = {\n",
    "    'number': '7800000000000',\n",
    "    'actions': [\n",
    "        {\n",
    "            'type': 'create',\n",
    "            'last': 'created_at': ISODate('2016-01-01T01:33:59'),\n",
    "            'count': 12,\n",
    "        },\n",
    "        {\n",
    "            'type': 'read',\n",
    "            'last': 'created_at': ISODate('2016-01-01T01:21:13'),\n",
    "            'count': 12,\n",
    "        },\n",
    "        {\n",
    "            'type': 'update',\n",
    "            'last': null,\n",
    "            'count': 0,\n",
    "        },\n",
    "        {\n",
    "            'type': 'delete',\n",
    "            'last': null,\n",
    "            'count': 0,\n",
    "        },\n",
    "    ]\n",
    "}"
   ]
  },
  {
   "cell_type": "markdown",
   "metadata": {},
   "source": [
    "Для корректного выполнения данной задачи, примем некоторые допущения:"
   ]
  },
  {
   "cell_type": "markdown",
   "metadata": {},
   "source": [
    "- Допустим, что нам необходимо сохранить исходный формат ISODate, не читая его содержимого, для этого, введем псевдо-функцию (и для удобства отображения результата):"
   ]
  },
  {
   "cell_type": "code",
   "execution_count": 57,
   "metadata": {},
   "outputs": [],
   "source": [
    "def ISODate(str): # да простит меня pep-8..\n",
    "    return 'ISODate(' + str + ')'"
   ]
  },
  {
   "cell_type": "markdown",
   "metadata": {},
   "source": [
    "- Допустим, что в условии задачи допущена ошибка:"
   ]
  },
  {
   "cell_type": "code",
   "execution_count": 58,
   "metadata": {},
   "outputs": [
    {
     "ename": "SyntaxError",
     "evalue": "invalid syntax (<ipython-input-58-12411ed94b84>, line 2)",
     "output_type": "error",
     "traceback": [
      "\u001b[0;36m  File \u001b[0;32m\"<ipython-input-58-12411ed94b84>\"\u001b[0;36m, line \u001b[0;32m2\u001b[0m\n\u001b[0;31m    'last': 'created_at': ISODate('2016-01-01T01:33:59'),\u001b[0m\n\u001b[0m                        ^\u001b[0m\n\u001b[0;31mSyntaxError\u001b[0m\u001b[0;31m:\u001b[0m invalid syntax\n"
     ]
    }
   ],
   "source": [
    "{\n",
    "'last': 'created_at': ISODate('2016-01-01T01:33:59'),\n",
    "}"
   ]
  },
  {
   "cell_type": "markdown",
   "metadata": {},
   "source": [
    "В этом случае, данная строка может принять вид:"
   ]
  },
  {
   "cell_type": "code",
   "execution_count": 59,
   "metadata": {},
   "outputs": [
    {
     "data": {
      "text/plain": [
       "{'last': 'ISODate(2016-01-01T01:33:59)'}"
      ]
     },
     "execution_count": 59,
     "metadata": {},
     "output_type": "execute_result"
    }
   ],
   "source": [
    "{\n",
    "'last': ISODate('2016-01-01T01:33:59'),\n",
    "}"
   ]
  },
  {
   "cell_type": "markdown",
   "metadata": {},
   "source": [
    "или"
   ]
  },
  {
   "cell_type": "code",
   "execution_count": 60,
   "metadata": {},
   "outputs": [
    {
     "data": {
      "text/plain": [
       "{'last': {'created_at': 'ISODate(2016-01-01T01:33:59)'}}"
      ]
     },
     "execution_count": 60,
     "metadata": {},
     "output_type": "execute_result"
    }
   ],
   "source": [
    "{\n",
    "'last': \n",
    "    {'created_at': ISODate('2016-01-01T01:33:59'),}\n",
    "}"
   ]
  },
  {
   "cell_type": "markdown",
   "metadata": {},
   "source": [
    "- Используем первый вариант, поскольку он кажется более логичным с точки зрения избыточности данных."
   ]
  },
  {
   "cell_type": "code",
   "execution_count": 61,
   "metadata": {},
   "outputs": [],
   "source": [
    "class User(object):\n",
    "\n",
    "    def __init__(self):\n",
    "        self.number = ''\n",
    "        self.actions = [\n",
    "            {'type': 'create', 'last': None, 'count': 0},\n",
    "            {'type': 'read', 'last': None, 'count': 0},\n",
    "            {'type': 'update', 'last': None, 'count': 0},\n",
    "            {'type': 'delete', 'last': None, 'count': 0},\n",
    "        ]\n",
    "\n",
    "    def control(self, input_json):\n",
    "        self.number = input_json['number']\n",
    "        for session in input_json['sessions']:\n",
    "            for action in session['actions']:\n",
    "                if action['type'] == 'create':\n",
    "                    self.actions[0]['count'] += 1\n",
    "                    self.actions[0]['last'] = action['created_at']\n",
    "                elif action['type'] == 'read':\n",
    "                    self.actions[1]['count'] += 1\n",
    "                    self.actions[1]['last'] = action['created_at']\n",
    "                elif action['type'] == 'update':\n",
    "                    self.actions[2]['count'] += 1\n",
    "                    self.actions[2]['last'] = action['created_at']\n",
    "                elif action['type'] == 'delete':\n",
    "                    self.actions[3]['count'] += 1\n",
    "                    self.actions[3]['last'] = action['created_at']\n",
    "\n",
    "    def viewer(self):\n",
    "        return {'number': self.number, 'actions': self.actions}"
   ]
  },
  {
   "cell_type": "markdown",
   "metadata": {},
   "source": [
    "Инициализируем новый объект класса User."
   ]
  },
  {
   "cell_type": "code",
   "execution_count": 62,
   "metadata": {},
   "outputs": [],
   "source": [
    "my_user = User()"
   ]
  },
  {
   "cell_type": "markdown",
   "metadata": {},
   "source": [
    "Проходимся по исходному массиву данных, собирая все действия пользователя и его условный идентификатор 'number' в виде аттрибутов данного объекта."
   ]
  },
  {
   "cell_type": "code",
   "execution_count": 63,
   "metadata": {},
   "outputs": [],
   "source": [
    "my_user.control(input_json)"
   ]
  },
  {
   "cell_type": "markdown",
   "metadata": {},
   "source": [
    "Выводим содержимое на экран (можно все закинуть в одну функцию, но у нас же вроде MVC  :)"
   ]
  },
  {
   "cell_type": "code",
   "execution_count": 64,
   "metadata": {},
   "outputs": [
    {
     "name": "stdout",
     "output_type": "stream",
     "text": [
      "{'number': '7800000000000', 'actions': [{'type': 'create', 'last': 'ISODate(2016-01-01T01:33:59)', 'count': 1}, {'type': 'read', 'last': 'ISODate(2016-01-01T01:21:13)', 'count': 2}, {'type': 'update', 'last': None, 'count': 0}, {'type': 'delete', 'last': None, 'count': 0}]}\n"
     ]
    }
   ],
   "source": [
    "print(my_user.viewer())"
   ]
  },
  {
   "cell_type": "code",
   "execution_count": null,
   "metadata": {},
   "outputs": [],
   "source": []
  }
 ],
 "metadata": {
  "kernelspec": {
   "display_name": "Python 3",
   "language": "python",
   "name": "python3"
  },
  "language_info": {
   "codemirror_mode": {
    "name": "ipython",
    "version": 3
   },
   "file_extension": ".py",
   "mimetype": "text/x-python",
   "name": "python",
   "nbconvert_exporter": "python",
   "pygments_lexer": "ipython3",
   "version": "3.7.4"
  }
 },
 "nbformat": 4,
 "nbformat_minor": 2
}
