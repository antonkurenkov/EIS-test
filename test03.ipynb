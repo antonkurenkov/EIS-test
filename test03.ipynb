{
 "cells": [
  {
   "cell_type": "markdown",
   "metadata": {},
   "source": [
    "Есть две коллекции (таблицы) данных: accrual (долги) и payment (платежи). Обе коллекции имеют поля:\n",
    "- id\n",
    "- date (дата)\n",
    "- month (месяц)\n",
    "\n",
    "Необходимо написать функцию, которая сделает запрос к платежам и найдёт для каждого платежа долг, который будет им оплачен. Платёж может оплатить только долг, имеющий более раннюю дату. Один платёж может оплатить только один долг, и каждый долг может быть оплачен только одним платежом. Платёж приоритетно должен выбрать долг с совпадающим месяцем (поле month). Если такого нет, то самый старый по дате (поле date) долг.\n",
    "Результатом должна быть таблица найденных соответствий, а также список платежей, которые не нашли себе долг.\n",
    "Запрос можно делать к любой базе данных (mongodb, postgresql или другие) любым способом."
   ]
  },
  {
   "cell_type": "code",
   "execution_count": 5,
   "metadata": {},
   "outputs": [],
   "source": [
    "import datetime\n",
    "import pandas as pd"
   ]
  },
  {
   "cell_type": "markdown",
   "metadata": {},
   "source": [
    "Для решения этой задачи мной была выбрана следующая структура входных данных:"
   ]
  },
  {
   "cell_type": "code",
   "execution_count": 6,
   "metadata": {},
   "outputs": [],
   "source": [
    "accruals = [\n",
    "    {'id': '01', 'date': datetime.datetime(2019, 1, 20), 'month': 1},\n",
    "    {'id': '02', 'date': datetime.datetime(2019, 2, 20), 'month': 2},\n",
    "    {'id': '03', 'date': datetime.datetime(2019, 3, 20), 'month': 3},\n",
    "    {'id': '04', 'date': datetime.datetime(2019, 4, 20), 'month': 4},\n",
    "    {'id': '05', 'date': datetime.datetime(2019, 5, 20), 'month': 5},\n",
    "    {'id': '06', 'date': datetime.datetime(2019, 6, 20), 'month': 6},\n",
    "    {'id': '07', 'date': datetime.datetime(2019, 7, 20), 'month': 7},\n",
    "    {'id': '08', 'date': datetime.datetime(2019, 8, 20), 'month': 8},\n",
    "    {'id': '09', 'date': datetime.datetime(2019, 9, 20), 'month': 9},\n",
    "    {'id': '10', 'date': datetime.datetime(2019, 10, 20), 'month': 10},\n",
    "    {'id': '11', 'date': datetime.datetime(2019, 11, 20), 'month': 11},\n",
    "    {'id': '12', 'date': datetime.datetime(2019, 12, 20), 'month': 12},\n",
    "]\n",
    "\n",
    "payments = [\n",
    "    {'id': '01', 'date': datetime.datetime(2019, 1, 25), 'month': 1},\n",
    "    {'id': '02', 'date': datetime.datetime(2019, 4, 22), 'month': 4},\n",
    "    {'id': '03', 'date': datetime.datetime(2019, 5, 23), 'month': 5},\n",
    "    {'id': '04', 'date': datetime.datetime(2019, 5, 24), 'month': 5},\n",
    "    {'id': '05', 'date': datetime.datetime(2019, 5, 25), 'month': 5},\n",
    "    {'id': '06', 'date': datetime.datetime(2019, 5, 21), 'month': 5},\n",
    "    {'id': '07', 'date': datetime.datetime(2019, 8, 22), 'month': 8},\n",
    "    {'id': '08', 'date': datetime.datetime(2019, 8, 25), 'month': 8},\n",
    "    {'id': '09', 'date': datetime.datetime(2019, 8, 26), 'month': 8},\n",
    "    {'id': '10', 'date': datetime.datetime(2019, 10, 22), 'month': 10},\n",
    "    {'id': '11', 'date': datetime.datetime(2019, 11, 22), 'month': 11},\n",
    "    {'id': '12', 'date': datetime.datetime(2019, 12, 25), 'month': 12},\n",
    "    {'id': '13', 'date': datetime.datetime(2019, 12, 26), 'month': 12},\n",
    "]\n",
    "\n",
    "matches_pay = []\n",
    "matches_debt = []\n",
    "unmatches = []\n",
    "offset = 0"
   ]
  },
  {
   "cell_type": "markdown",
   "metadata": {},
   "source": [
    "Функция control() обрабатывает 2 входящих списка в соответствии с заданным отступом. Поскольку мы знаем, что данные поступают массив 'accruals' в хронологическом порядке, после успешного закрытия n-го долга (т.е, нахождения соответствия) мы можем исключить данный n-й элемент 'acc_itm' из анализируемой выборки путем увеличения отступа 'offset, а соответственно и сужением выборки при каждом успешном проходе цикла. \n",
    "\n",
    "При совпадении с заданным условием, все последующие элементы в 'accruals' для данного платежа 'pay_itm' можно проигнорировать прерыванием цикла."
   ]
  },
  {
   "cell_type": "code",
   "execution_count": 7,
   "metadata": {},
   "outputs": [],
   "source": [
    "def control(payments, accruals, offset):\n",
    "    for pay_itm in payments:\n",
    "        for acc_itm in accruals[offset:]:\n",
    "            if pay_itm['date'] > acc_itm['date']:\n",
    "                matches_pay.append(pay_itm['id'])\n",
    "                matches_debt.append(acc_itm['id'])\n",
    "                offset += 1\n",
    "                break\n",
    "            elif pay_itm['id'] not in unmatches:\n",
    "                unmatches.append(pay_itm['id'])\n",
    "\n",
    "    return {'debt_id': matches_debt, 'payment_id': matches_pay}"
   ]
  },
  {
   "cell_type": "code",
   "execution_count": 8,
   "metadata": {},
   "outputs": [
    {
     "name": "stdout",
     "output_type": "stream",
     "text": [
      "   debt_id payment_id\n",
      "0       01         01\n",
      "1       02         02\n",
      "2       03         03\n",
      "3       04         04\n",
      "4       05         05\n",
      "5       06         07\n",
      "6       07         08\n",
      "7       08         09\n",
      "8       09         10\n",
      "9       10         11\n",
      "10      11         12\n",
      "11      12         13\n",
      "Didn't find a debt to pay for: ['06']\n",
      "\n",
      "CPU times: user 3.9 ms, sys: 106 µs, total: 4 ms\n",
      "Wall time: 5.07 ms\n"
     ]
    }
   ],
   "source": [
    "%%time\n",
    "if __name__ == '__main__':\n",
    "    result = control(payments, accruals, offset)\n",
    "    print(pd.DataFrame(result))\n",
    "    print(f'Didn\\'t find a debt to pay for: {unmatches}\\n')"
   ]
  }
 ],
 "metadata": {
  "kernelspec": {
   "display_name": "Python 3",
   "language": "python",
   "name": "python3"
  },
  "language_info": {
   "codemirror_mode": {
    "name": "ipython",
    "version": 3
   },
   "file_extension": ".py",
   "mimetype": "text/x-python",
   "name": "python",
   "nbconvert_exporter": "python",
   "pygments_lexer": "ipython3",
   "version": "3.7.4"
  }
 },
 "nbformat": 4,
 "nbformat_minor": 2
}
